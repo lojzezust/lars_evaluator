{
 "cells": [
  {
   "cell_type": "code",
   "execution_count": null,
   "metadata": {},
   "outputs": [],
   "source": [
    "from PIL import Image\n",
    "import numpy as np\n",
    "import argparse\n",
    "import matplotlib.pyplot as plt\n",
    "import pandas as pd\n",
    "import os\n",
    "import os.path as osp\n",
    "\n",
    "from evaluator.config import get_cfg"
   ]
  },
  {
   "cell_type": "code",
   "execution_count": null,
   "metadata": {},
   "outputs": [],
   "source": [
    "cfg = get_cfg('configs/lars_test.yaml')"
   ]
  },
  {
   "cell_type": "code",
   "execution_count": null,
   "metadata": {},
   "outputs": [],
   "source": [
    "cfg"
   ]
  },
  {
   "cell_type": "code",
   "execution_count": null,
   "metadata": {},
   "outputs": [],
   "source": [
    "METHOD_NAME = 'segformer_mit-b2_8x1_1024x1024_160k_lars'\n",
    "# METHOD_NAME = 'wasr_lars_v2'\n",
    "\n",
    "frame_df = pd.read_csv(osp.join(cfg.PATHS.RESULTS, '%s_frames.csv' % METHOD_NAME))\n",
    "frame_df"
   ]
  },
  {
   "cell_type": "code",
   "execution_count": null,
   "metadata": {},
   "outputs": [],
   "source": [
    "frame_df_s = frame_df.sort_values('WE_acc', ascending=True)\n",
    "frame_df_s[:20]"
   ]
  },
  {
   "cell_type": "code",
   "execution_count": null,
   "metadata": {},
   "outputs": [],
   "source": [
    "def visualize_image(img_name, cfg=cfg):\n",
    "    img = np.array(Image.open(osp.join(cfg.PATHS.DATASET_ROOT, cfg.DATASET.IMAGE_SUBDIR, '%s.jpg' % img_name)))\n",
    "    \n",
    "    # Preds\n",
    "    H,W,C = img.shape\n",
    "    preds = np.array(Image.open(osp.join(cfg.PATHS.PREDICTIONS, METHOD_NAME, '%s.png' % img_name)).resize((W,H), Image.BILINEAR))\n",
    "    pred_vis = (img * 0.6 + preds * 0.4).astype(np.uint8)\n",
    "\n",
    "    # GT\n",
    "    mask_gt = np.array(Image.open(osp.join(cfg.PATHS.DATASET_ROOT, cfg.DATASET.GT_MASK_SUBDIR, '%s.png' % img_name)))\n",
    "    gt_c = np.where(mask_gt[...,None] < 3, np.array(cfg.CLASSES.COLORS)[np.minimum(mask_gt, 2)], np.array([0,0,0])).astype(np.uint8)\n",
    "    gt_vis = (img * 0.6 + gt_c * 0.4).astype(np.uint8)\n",
    "\n",
    "    fig, (ax1,ax2) = plt.subplots(2,1,figsize=(12,16))\n",
    "    ax1.imshow(pred_vis)\n",
    "    ax2.imshow(gt_vis)\n",
    "    # plt.close(fig)"
   ]
  },
  {
   "cell_type": "code",
   "execution_count": null,
   "metadata": {},
   "outputs": [],
   "source": [
    "\n",
    "img_n = frame_df_s.iloc[5].image\n",
    "# img_n = 'mit_philos_2021_10_28_ night_channel_center_camera_00265'\n",
    "print(img_n)\n",
    "visualize_image(img_n)"
   ]
  }
 ],
 "metadata": {
  "kernelspec": {
   "display_name": "Python 3.8.5 ('venv': venv)",
   "language": "python",
   "name": "python3"
  },
  "language_info": {
   "codemirror_mode": {
    "name": "ipython",
    "version": 3
   },
   "file_extension": ".py",
   "mimetype": "text/x-python",
   "name": "python",
   "nbconvert_exporter": "python",
   "pygments_lexer": "ipython3",
   "version": "3.8.5"
  },
  "orig_nbformat": 4,
  "vscode": {
   "interpreter": {
    "hash": "d1b599f4d17cd169d21fb780f149cd6a6c81f1ebabb1b424a62fe9b12597d0bf"
   }
  }
 },
 "nbformat": 4,
 "nbformat_minor": 2
}
